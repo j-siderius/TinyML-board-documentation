{
  "nbformat": 4,
  "nbformat_minor": 0,
  "metadata": {
    "colab": {
      "provenance": []
    },
    "kernelspec": {
      "name": "python3",
      "display_name": "Python 3"
    },
    "language_info": {
      "name": "python"
    }
  },
  "cells": [
    {
      "cell_type": "markdown",
      "source": [
        "# TensorFlow Lite Micro - LSTM example\n",
        "\n",
        "The code cells below walk you through building a LSTM network for classifying MNIST data. *This is currently only possible in Python 3.10.x with TensorFlow 2.15.x*. Find the steps listed below:\n",
        "\n",
        "- The software / library versions are checked\n",
        "- The dataset is loaded and normalised\n",
        "- The TensorFlow model is built using one LSTM layer and one Dense layer\n",
        "- The TensorFlow model is trained on the training data, and verified using the validation data\n",
        "- The Input and Output layers of the model are converted into a fixed shape (as per https://www.tensorflow.org/lite/models/convert/rnn#keras_lstm_conversion_recommended)\n",
        "- The fixed shape model is converted using the TensorFlow Lite converter and saved\n",
        "- The TensorFlow Lite model is converted into a C-array header file\n",
        "\n",
        "---\n",
        "\n",
        "You can edit any part of the dataset loading and model as you like. It is also possible to add code for visualising the model training history.\n",
        "\n",
        "To add files (e.g. your own dataset), open the Colab File Browser by clicking the 📂 (Folder icon on the left). You can drag and drop files in this window to upload, or click the ⬆ (Upload files button). *Files will not be perisistant in this storage, they are deleted after the Google runtime is disconnected. Back up your files often and carefully!*"
      ],
      "metadata": {
        "id": "usMvrsk90rgT"
      }
    },
    {
      "cell_type": "code",
      "execution_count": null,
      "metadata": {
        "colab": {
          "base_uri": "https://localhost:8080/"
        },
        "id": "E4IL5XaKhM1K",
        "outputId": "8fb11681-398e-4fb4-fa88-ce1bbc6d05fa"
      },
      "outputs": [
        {
          "output_type": "stream",
          "name": "stdout",
          "text": [
            "Python version (should be 3.10.x): 3.10.12 (main, Nov 20 2023, 15:14:05) [GCC 11.4.0]\n"
          ]
        }
      ],
      "source": [
        "# Check Python version\n",
        "import sys\n",
        "print(f\"Python version (should be 3.10.x): {sys.version}\")"
      ]
    },
    {
      "cell_type": "code",
      "source": [
        "# Import libraries\n",
        "import tensorflow as tf\n",
        "import numpy as np\n",
        "import sklearn\n",
        "print(f\"TensorFlow version (should be 2.15.x): {tf.__version__}\")\n",
        "print(f\"Numpy version: {np.__version__}\")\n",
        "print(f\"Scikit-learn version: {sklearn.__version__}\")"
      ],
      "metadata": {
        "colab": {
          "base_uri": "https://localhost:8080/"
        },
        "id": "zKEDJgF5h0In",
        "outputId": "064039ed-bd4e-4710-c2fb-5d797a44d03d"
      },
      "execution_count": null,
      "outputs": [
        {
          "output_type": "stream",
          "name": "stdout",
          "text": [
            "TensorFlow version (should be 2.15.x): 2.15.0\n",
            "Numpy version: 1.25.2\n",
            "Scikit-learn version: 1.2.2\n"
          ]
        }
      ]
    },
    {
      "cell_type": "code",
      "source": [
        "# Setup the dataset, using MNIST digit data\n",
        "(x_train, y_train), (x_test, y_test) = tf.keras.datasets.mnist.load_data()\n",
        "\n",
        "# Normalize pixel values to 0-1\n",
        "x_train = x_train / 255.\n",
        "x_test = x_test / 255.\n",
        "\n",
        "# Set the data up as numpy floats\n",
        "x_train = x_train.astype(np.float32)\n",
        "x_test = x_test.astype(np.float32)"
      ],
      "metadata": {
        "id": "9SBm7jegh80E"
      },
      "execution_count": null,
      "outputs": []
    },
    {
      "cell_type": "code",
      "source": [
        "# Create the TensorFlow LSTM model\n",
        "model = tf.keras.models.Sequential([\n",
        "    tf.keras.layers.Input(shape=x_train[0].shape, name=\"input\"),\n",
        "    tf.keras.layers.LSTM(20, return_sequences=True),\n",
        "    tf.keras.layers.Flatten(),\n",
        "    tf.keras.layers.Dense(10, activation=\"softmax\", name=\"output\")\n",
        "])\n",
        "\n",
        "model.compile(\n",
        "    optimizer=\"adam\",\n",
        "    loss=\"sparse_categorical_crossentropy\",\n",
        "    metrics=[\"accuracy\"]\n",
        "    )\n",
        "\n",
        "model.summary()"
      ],
      "metadata": {
        "colab": {
          "base_uri": "https://localhost:8080/"
        },
        "id": "2g8VIrt0jKak",
        "outputId": "ff77b308-8c56-4239-c278-b02c45b804c4"
      },
      "execution_count": null,
      "outputs": [
        {
          "output_type": "stream",
          "name": "stdout",
          "text": [
            "Model: \"sequential\"\n",
            "_________________________________________________________________\n",
            " Layer (type)                Output Shape              Param #   \n",
            "=================================================================\n",
            " lstm (LSTM)                 (None, 28, 20)            3920      \n",
            "                                                                 \n",
            " flatten (Flatten)           (None, 560)               0         \n",
            "                                                                 \n",
            " output (Dense)              (None, 10)                5610      \n",
            "                                                                 \n",
            "=================================================================\n",
            "Total params: 9530 (37.23 KB)\n",
            "Trainable params: 9530 (37.23 KB)\n",
            "Non-trainable params: 0 (0.00 Byte)\n",
            "_________________________________________________________________\n"
          ]
        }
      ]
    },
    {
      "cell_type": "code",
      "source": [
        "# Train the model using the data\n",
        "model.fit(\n",
        "    x_train,\n",
        "    y_train,\n",
        "    epochs=5,\n",
        "    validation_data=(x_test, y_test),\n",
        "    batch_size=32\n",
        ")"
      ],
      "metadata": {
        "colab": {
          "base_uri": "https://localhost:8080/"
        },
        "id": "wpIMvHf9j-N7",
        "outputId": "5aca6a93-e9ee-4e75-e8ae-513367803b25"
      },
      "execution_count": null,
      "outputs": [
        {
          "output_type": "stream",
          "name": "stdout",
          "text": [
            "Epoch 1/5\n",
            "1875/1875 [==============================] - 32s 14ms/step - loss: 0.3366 - accuracy: 0.9010 - val_loss: 0.1436 - val_accuracy: 0.9562\n",
            "Epoch 2/5\n",
            "1875/1875 [==============================] - 21s 11ms/step - loss: 0.1209 - accuracy: 0.9633 - val_loss: 0.1105 - val_accuracy: 0.9631\n",
            "Epoch 3/5\n",
            "1875/1875 [==============================] - 20s 11ms/step - loss: 0.0888 - accuracy: 0.9732 - val_loss: 0.0761 - val_accuracy: 0.9744\n",
            "Epoch 4/5\n",
            "1875/1875 [==============================] - 21s 11ms/step - loss: 0.0720 - accuracy: 0.9773 - val_loss: 0.0712 - val_accuracy: 0.9771\n",
            "Epoch 5/5\n",
            "1875/1875 [==============================] - 21s 11ms/step - loss: 0.0620 - accuracy: 0.9805 - val_loss: 0.0610 - val_accuracy: 0.9794\n"
          ]
        },
        {
          "output_type": "execute_result",
          "data": {
            "text/plain": [
              "<keras.src.callbacks.History at 0x7b64c451da20>"
            ]
          },
          "metadata": {},
          "execution_count": 5
        }
      ]
    },
    {
      "cell_type": "code",
      "source": [
        "# Convert the model to have fixed input and output shapes\n",
        "fixed_input = tf.keras.layers.Input(\n",
        "    shape=x_train[0].shape,\n",
        "    batch_size=1,\n",
        "    dtype=model.inputs[0].dtype,\n",
        "    name=\"fixed_input\"\n",
        "    )\n",
        "fixed_output = model(fixed_input)\n",
        "\n",
        "static_model = tf.keras.models.Model(fixed_input, fixed_output)"
      ],
      "metadata": {
        "id": "qfWdML0Dnz8K"
      },
      "execution_count": null,
      "outputs": []
    },
    {
      "cell_type": "code",
      "source": [
        "# Save the model as TensorFlow Lite\n",
        "converter = tf.lite.TFLiteConverter.from_keras_model(static_model)\n",
        "tflite_model = converter.convert()\n",
        "\n",
        "open(\"model.tflite\", \"wb\").write(tflite_model)"
      ],
      "metadata": {
        "colab": {
          "base_uri": "https://localhost:8080/"
        },
        "id": "U8f_lHG-nGPP",
        "outputId": "e592db6c-1085-4939-d62b-3e23a423676c"
      },
      "execution_count": null,
      "outputs": [
        {
          "output_type": "execute_result",
          "data": {
            "text/plain": [
              "41240"
            ]
          },
          "metadata": {},
          "execution_count": 7
        }
      ]
    },
    {
      "cell_type": "code",
      "source": [
        "# Convert the TensorFlow Lite file to a C-array header file\n",
        "def convert_tflite_to_c(tflite_path: str = 'model.tflite', model_name: str = 'model') -> str:\n",
        "    \"\"\"\n",
        "    Converts TFLite models into C-compatible header files for Arduino etc.\n",
        "\n",
        "    Parameters\n",
        "    ----------\n",
        "    tflite_path : str\n",
        "        Path to the TFLite model file\n",
        "        Default path is 'model.tflite'\n",
        "    model_name : str\n",
        "        Output model name\n",
        "        Default value is 'model'\n",
        "\n",
        "    Returns\n",
        "    -------\n",
        "    model_path : str\n",
        "        Path to the converted C-compatible model\n",
        "\n",
        "    Raises\n",
        "    ------\n",
        "    ValueError\n",
        "        If the provided model is not a TFLite model\n",
        "    \"\"\"\n",
        "\n",
        "    # Check if file is a tflite model. If not, raise ValueError.\n",
        "    if not tflite_path.endswith('.tflite'):\n",
        "        raise ValueError(\"The provided file is not a TFLite model.\")\n",
        "\n",
        "    # Open the TFLite model file in binary mode and read its content into 'tflite_content'.\n",
        "    with open(tflite_path, 'rb') as tflite_file:\n",
        "        tflite_content = tflite_file.read()\n",
        "\n",
        "    # Calculate the length of 'tflite_content' (i.e., the size of the TFLite model in bytes).\n",
        "    array_length = len(tflite_content)\n",
        "\n",
        "    # Split 'tflite_content' into chunks of 12 bytes each and convert each chunk to a hexadecimal string.\n",
        "    # This is done so that the TFLite model can be represented as an array in C-compatible format.\n",
        "    hex_lines = [', '.join([f'0x{byte:02x}' for byte in tflite_content[i:i + 12]]) for i in\n",
        "                 range(0, len(tflite_content), 12)]\n",
        "\n",
        "    # Join the chunks of hexadecimal strings with newlines to format them neatly.\n",
        "    hex_array = ',\\n     '.join(hex_lines)\n",
        "\n",
        "    # Open a header file in write mode and write out the TFLite model as an array.\n",
        "    with open(model_name + '.h', 'w') as header_file:\n",
        "        # Write the length of the TFLite model to the header file.\n",
        "        header_file.write(f'unsigned int {model_name}_len = {array_length};\\n\\n')\n",
        "\n",
        "        # Write out the TFLite model as an array in C-compatible format.\n",
        "        header_file.write(f'alignas(8) const unsigned char {model_name}[] = {{\\n     ')\n",
        "        header_file.write(f'{hex_array}\\n')\n",
        "        header_file.write(f'}};\\n')\n",
        "\n",
        "    # Return the name of the generated header file.\n",
        "    return model_name + '.h'\n",
        "\n",
        "convert_tflite_to_c('model.tflite', 'lstm_model')"
      ],
      "metadata": {
        "colab": {
          "base_uri": "https://localhost:8080/",
          "height": 35
        },
        "id": "-xWbpzg205gh",
        "outputId": "8cc592cc-0fd2-4f26-bddf-31939bf59c49"
      },
      "execution_count": null,
      "outputs": [
        {
          "output_type": "execute_result",
          "data": {
            "text/plain": [
              "'lstm_model.h'"
            ],
            "application/vnd.google.colaboratory.intrinsic+json": {
              "type": "string"
            }
          },
          "metadata": {},
          "execution_count": 8
        }
      ]
    },
    {
      "cell_type": "markdown",
      "source": [
        "In order to get the C-array header model file, open the Colab File Browser by clicking the 📂 (Folder icon on the left) and clicking the three dots, the select \"Download\"."
      ],
      "metadata": {
        "id": "aWUdQ0YD6nI8"
      }
    }
  ]
}